{
  "nbformat": 4,
  "nbformat_minor": 0,
  "metadata": {
    "colab": {
      "provenance": []
    },
    "kernelspec": {
      "name": "python3",
      "display_name": "Python 3"
    },
    "language_info": {
      "name": "python"
    }
  },
  "cells": [
    {
      "cell_type": "markdown",
      "source": [
        "# Configurações iniciais para a definição dos modelos "
      ],
      "metadata": {
        "id": "mX_t9nh88Q6N"
      }
    },
    {
      "cell_type": "code",
      "execution_count": null,
      "metadata": {
        "id": "l5McTxFL1foK"
      },
      "outputs": [],
      "source": [
        "# Importando as bibliotecas necessárias à manipulação do banco de dados.\n",
        "import pandas as pd\n",
        "import matplotlib.pyplot as plt\n",
        "import numpy as np"
      ]
    },
    {
      "cell_type": "code",
      "source": [
        "from google.colab import drive\n",
        "drive.mount('/content/drive')"
      ],
      "metadata": {
        "colab": {
          "base_uri": "https://localhost:8080/"
        },
        "id": "lNBWyuQ74wIm",
        "outputId": "18c5b043-e48d-4465-e50b-2355924eee78"
      },
      "execution_count": null,
      "outputs": [
        {
          "output_type": "stream",
          "name": "stdout",
          "text": [
            "Drive already mounted at /content/drive; to attempt to forcibly remount, call drive.mount(\"/content/drive\", force_remount=True).\n"
          ]
        }
      ]
    },
    {
      "cell_type": "code",
      "source": [
        "final_table = pd.read_excel('/content/drive/MyDrive/database/database.xlsx')"
      ],
      "metadata": {
        "id": "7cPyRyU65wW2"
      },
      "execution_count": null,
      "outputs": []
    },
    {
      "cell_type": "markdown",
      "source": [
        "#3.0 Definição dos modelos e avaliação\n"
      ],
      "metadata": {
        "id": "Im9CeUzf7F4C"
      }
    },
    {
      "cell_type": "code",
      "source": [
        "# Instalando um visualizador de grafo para imprimir a árvore de decisão gerada.\n",
        "!pip install graphviz\n",
        "import graphviz\n",
        "from sklearn.tree import plot_tree\n",
        "from sklearn.tree import export_graphviz\n",
        "import pydot\n",
        "\n",
        "# Instalando o sklearn\n",
        "!pip install -U scikit-learn\n",
        "\n",
        "# Importando 'clear_output'\n",
        "from IPython.display import clear_output\n",
        "\n",
        "# Importando todas as bibliotecas necessárias a modelagem corrente.\n",
        "from sklearn.model_selection import train_test_split\n",
        "from sklearn.model_selection import RandomizedSearchCV\n",
        "from sklearn.pipeline import make_pipeline\n",
        "from sklearn.preprocessing import StandardScaler\n",
        "\n",
        "# Importando a biblioteca para a árvore de decisão\n",
        "from sklearn.tree import DecisionTreeClassifier\n",
        "\n",
        "# Importando a biblioteca para o SVC\n",
        "from sklearn.svm import SVC\n",
        "\n",
        "# Importando a biblioteca para a rede neural\n",
        "from sklearn.neural_network import MLPClassifier\n",
        "\n",
        "# Importando todas as bibliotecas necessárias à avaliação corrente.\n",
        "from sklearn.metrics import accuracy_score, mean_squared_error, precision_score, recall_score\n",
        "import matplotlib.pyplot as plt\n",
        "from sklearn.metrics import plot_confusion_matrix\n",
        "from sklearn.model_selection import cross_val_score\n",
        "\n",
        "# Limpando o console de saída.\n",
        "clear_output()"
      ],
      "metadata": {
        "id": "kGk3Xhha7IaY"
      },
      "execution_count": null,
      "outputs": []
    },
    {
      "cell_type": "markdown",
      "source": [
        "## 3.2 Árvore de Decisão\n"
      ],
      "metadata": {
        "id": "I7ma0h1J89QJ"
      }
    },
    {
      "cell_type": "markdown",
      "source": [
        "### 3.2.1 Árvore de Decisão - Construíndo um modelo sem os melhores parametros possíveis (Sem RandomSearch) e mostrando os resultados obtidos:"
      ],
      "metadata": {
        "id": "G8WZVBEb8-ej"
      }
    },
    {
      "cell_type": "code",
      "source": [
        "# Criando um dataframe com somente os dados de entrada.\n",
        "x = final_table.loc[:, final_table.columns!='overall_survive']\n",
        "\n",
        "# Criando um dataframe com somente o atributo alvo.\n",
        "y = final_table.loc[:, final_table.columns=='overall_survive']\n",
        "\n",
        "# Dividindo os dados entre treino e teste e definindo o tamanho dos dados de teste como 30%.\n",
        "x_train, x_test, y_train, y_test = train_test_split(x, y, stratify=y, test_size=0.3, random_state=42)\n",
        "\n",
        "# Instanciando o modelo.\n",
        "model_no_tuning = DecisionTreeClassifier()\n",
        "\n",
        "# Treinando o modelo de busca\n",
        "model_no_tuning.fit(x_train, y_train)\n",
        "\n",
        "# Associando resultado.\n",
        "y_pred_no_tuning = model_no_tuning.predict(x_test)"
      ],
      "metadata": {
        "id": "d3yg8o58-Ezm"
      },
      "execution_count": null,
      "outputs": []
    },
    {
      "cell_type": "markdown",
      "source": [
        "Análise dos resultados:"
      ],
      "metadata": {
        "id": "Q9wZW7jv-VrY"
      }
    },
    {
      "cell_type": "code",
      "source": [
        "# Verificando a pontuação de classificação de precisão.\n",
        "print(\"Acurácia: {:.2f}%\".format(accuracy_score(y_test, y_pred_no_tuning) * 100))\n",
        "print(\"Precisão: {:.2f}%\".format(precision_score(y_test, y_pred_no_tuning, average='macro') * 100))\n",
        "print(\"Erro Quadrático: {:.2f}%\".format(mean_squared_error(y_test, y_pred_no_tuning) * 100))\n",
        "print(\"Recall: {:.2f}%\".format(recall_score(y_test, y_pred_no_tuning, average='macro') * 100))\n",
        "\n",
        "# Plotando a matriz de confusão.\n",
        "print(\"Segue a Matriz de Confusão: \")\n",
        "_ = plot_confusion_matrix(model_no_tuning, x_test, y_test, cmap='BuGn')"
      ],
      "metadata": {
        "id": "XFmA4sxZ-YGY",
        "colab": {
          "base_uri": "https://localhost:8080/",
          "height": 426
        },
        "outputId": "9a055a4f-33f0-4f23-b7f5-e132e01594c5"
      },
      "execution_count": null,
      "outputs": [
        {
          "output_type": "stream",
          "name": "stdout",
          "text": [
            "Acurácia: 67.12%\n",
            "Precisão: 68.01%\n",
            "Erro Quadrático: 47.38%\n",
            "Recall: 64.86%\n",
            "Segue a Matriz de Confusão: \n"
          ]
        },
        {
          "output_type": "stream",
          "name": "stderr",
          "text": [
            "/usr/local/lib/python3.7/dist-packages/sklearn/utils/deprecation.py:87: FutureWarning: Function plot_confusion_matrix is deprecated; Function `plot_confusion_matrix` is deprecated in 1.0 and will be removed in 1.2. Use one of the class methods: ConfusionMatrixDisplay.from_predictions or ConfusionMatrixDisplay.from_estimator.\n",
            "  warnings.warn(msg, category=FutureWarning)\n"
          ]
        },
        {
          "output_type": "display_data",
          "data": {
            "text/plain": [
              "<Figure size 432x288 with 2 Axes>"
            ],
            "image/png": "[encoded data removed]"
          },
          "metadata": {
            "needs_background": "light"
          }
        }
      ]
    },
    {
      "cell_type": "markdown",
      "source": [
        "### 3.2.2 Árvore de Decisão - Construíndo um modelo com os melhores parametros possiveis (Com RandomSearch) e mostrando os resultados obtidos:"
      ],
      "metadata": {
        "id": "pwo9eQfZ-eOj"
      }
    },
    {
      "cell_type": "code",
      "source": [
        "# Definindo os parâmetros para o randomSearch\n",
        "params = {\n",
        "    'criterion': ['gini', 'entropy', 'log_loss'],\n",
        "    'max_depth': range(1,10),\n",
        "    'max_features': ['auto', 'sqrt', 'log2'],\n",
        "    'random_state': range(1,50)\n",
        "}\n",
        "\n",
        "# Instanciando o modelo.\n",
        "modelDT = DecisionTreeClassifier()\n",
        "\n",
        "# Instanciando o modelo de busca \n",
        "searchDT = RandomizedSearchCV(\n",
        "    estimator = modelDT,\n",
        "    param_distributions = params\n",
        ")\n",
        "\n",
        "# Treinando o modelo de busca\n",
        "modelTraining = searchDT.fit(x_train, y_train)\n",
        "\n",
        "# Associando resultado.\n",
        "y_pred = modelTraining.predict(x_test)\n",
        "\n",
        "# Limpando o console de saída.\n",
        "clear_output()\n",
        "\n",
        "# Mostrando os melhores parâmetros\n",
        "modelTraining.best_params_"
      ],
      "metadata": {
        "id": "l9d4COZr-f1_",
        "colab": {
          "base_uri": "https://localhost:8080/"
        },
        "outputId": "317f9baa-022e-4be8-ddb1-4dc82228d2ab"
      },
      "execution_count": null,
      "outputs": [
        {
          "output_type": "execute_result",
          "data": {
            "text/plain": [
              "{'random_state': 22,\n",
              " 'max_features': 'sqrt',\n",
              " 'max_depth': 8,\n",
              " 'criterion': 'gini'}"
            ]
          },
          "metadata": {},
          "execution_count": 11
        }
      ]
    },
    {
      "cell_type": "markdown",
      "source": [
        "Análise dos resultados obtidos:"
      ],
      "metadata": {
        "id": "Ch7jZhD4_0Gz"
      }
    },
    {
      "cell_type": "code",
      "source": [
        "# Verificando a pontuação de classificação de precisão.\n",
        "print(\"Acurácia: {:.2f}%\".format(accuracy_score(y_test, y_pred) * 100))\n",
        "print(\"Precisão: {:.2f}%\".format(precision_score(y_test, y_pred, average='macro') * 100))\n",
        "print(\"Erro Quadrático: {:.2f}%\".format(mean_squared_error(y_test, y_pred) * 100))\n",
        "print(\"Recall: {:.2f}%\".format(recall_score(y_test, y_pred, average='macro') * 100))\n",
        "\n",
        "# Plotando a matriz de confusão.\n",
        "print(\"Segue a Matriz de Confusão: \")\n",
        "_ = plot_confusion_matrix(modelTraining, x_test, y_test, cmap='BuGn')\n"
      ],
      "metadata": {
        "id": "SYjp9lxu_3En",
        "colab": {
          "base_uri": "https://localhost:8080/",
          "height": 426
        },
        "outputId": "81f2ddcb-aef7-4d11-bf4b-e19d02a12985"
      },
      "execution_count": null,
      "outputs": [
        {
          "output_type": "stream",
          "name": "stdout",
          "text": [
            "Acurácia: 65.43%\n",
            "Precisão: 56.26%\n",
            "Erro Quadrático: 49.15%\n",
            "Recall: 49.58%\n",
            "Segue a Matriz de Confusão: \n"
          ]
        },
        {
          "output_type": "stream",
          "name": "stderr",
          "text": [
            "/usr/local/lib/python3.7/dist-packages/sklearn/utils/deprecation.py:87: FutureWarning: Function plot_confusion_matrix is deprecated; Function `plot_confusion_matrix` is deprecated in 1.0 and will be removed in 1.2. Use one of the class methods: ConfusionMatrixDisplay.from_predictions or ConfusionMatrixDisplay.from_estimator.\n",
            "  warnings.warn(msg, category=FutureWarning)\n"
          ]
        },
        {
          "output_type": "display_data",
          "data": {
            "text/plain": [
              "<Figure size 432x288 with 2 Axes>"
            ],
            "image/png": "[encoded data removed]"
          },
          "metadata": {
            "needs_background": "light"
          }
        }
      ]
    },
    {
      "cell_type": "markdown",
      "source": [
        "### 3.2.3 Análise da relevancia das features para o modelo:"
      ],
      "metadata": {
        "id": "4qJ6dtKhAxAQ"
      }
    },
    {
      "cell_type": "code",
      "source": [
        "def get_relevance(table, model):\n",
        "\n",
        "  # Instanciando uma lista para armazenar os itens de maior relevância.\n",
        "  relevance_list = []\n",
        "\n",
        "  # Adicionando cada item à lista instanciada.\n",
        "  for feature, importance in zip(final_table.columns, model.best_estimator_.feature_importances_):\n",
        "    relevance_list.append({'feature': feature, 'importance':importance*100})\n",
        "\n",
        "  # Ordenando a lista criada de maneira decrescente.\n",
        "  sorted_relevance_list = sorted(relevance_list, key=lambda d: d['importance'], reverse=True) \n",
        "\n",
        "  # Imprimindo na tela as features mais relevantes em ordem de importancia.\n",
        "  for i in sorted_relevance_list:\n",
        "    print('{}: {:.2f}%'.format(i.get('feature'), i.get('importance')))\n",
        "\n",
        "# Recebendo a relevância de cada feature.\n",
        "get_relevance(final_table, modelTraining)"
      ],
      "metadata": {
        "id": "F5nOR3biAyCK",
        "colab": {
          "base_uri": "https://localhost:8080/"
        },
        "outputId": "65985284-03c7-4f4c-964d-fb2d575933be"
      },
      "execution_count": null,
      "outputs": [
        {
          "output_type": "stream",
          "name": "stdout",
          "text": [
            "time_with_tumor_delta: 57.90%\n",
            "is_benign: 7.66%\n",
            "histological_grade_based_on_nottinghan: 5.28%\n",
            "tumor_subtype: 4.55%\n",
            "age_when_cancer_was_discovered_in_months: 4.23%\n",
            "ricidive_status: 3.16%\n",
            "breastfed_time: 2.72%\n",
            "alcohol: 2.44%\n",
            "body_mass_index: 2.04%\n",
            "mitotic_index: 1.53%\n",
            "has_breastfed: 1.44%\n",
            "primary_diagnostic: 1.38%\n",
            "menopause_status: 1.20%\n",
            "has_children: 1.05%\n",
            "menarche_age: 0.66%\n",
            "progesteron_percentage: 0.65%\n",
            "tubular_differentiation: 0.56%\n",
            "histological_grade: 0.56%\n",
            "tobaco: 0.41%\n",
            "has_breast_cancer_family_history: 0.40%\n",
            "abortion: 0.17%\n",
            "number_of_births: 0.00%\n",
            "hormone_therapy_status: 0.00%\n",
            "hormone_therapy_time: 0.00%\n"
          ]
        }
      ]
    },
    {
      "cell_type": "markdown",
      "source": [
        "### 3.2.4 Visualizando a árvore de decisão criada"
      ],
      "metadata": {
        "id": "ZTiJgdYmA6AF"
      }
    },
    {
      "cell_type": "code",
      "source": [
        "# Ajustando aas configurações da figura.\n",
        "fig, ax = plt.subplots(figsize=(20, 20))\n",
        "\n",
        "# Gerando a imagem.\n",
        "_ = plot_tree(modelTraining.best_estimator_, \n",
        "            feature_names=x.columns,\n",
        "            class_names=None, \n",
        "            filled=True, rounded=True, ax=ax,\n",
        "            max_depth = 3)\n",
        "\n",
        "# Salvando a figura gerada.\n",
        "fig.savefig('output.pdf')"
      ],
      "metadata": {
        "id": "YBzNyT_eA8Qj",
        "colab": {
          "base_uri": "https://localhost:8080/",
          "height": 1000
        },
        "outputId": "0026749f-fa7b-4ea7-aab0-f9139a250463"
      },
      "execution_count": null,
      "outputs": [
        {
          "output_type": "display_data",
          "data": {
            "text/plain": [
              "<Figure size 1440x1440 with 1 Axes>"
            ],
            "image/png": "[encoded data removed]"
          },
          "metadata": {
            "needs_background": "light"
          }
        }
      ]
    },
    {
      "cell_type": "markdown",
      "source": [
        "## 3.3 Redes Neurais"
      ],
      "metadata": {
        "id": "zwfhmkOXCh5P"
      }
    },
    {
      "cell_type": "markdown",
      "source": [
        "### 3.3.1 Separando as tabelas para treino"
      ],
      "metadata": {
        "id": "tJDZXrWICkqH"
      }
    },
    {
      "cell_type": "code",
      "source": [
        "# Criando um dataframe com somente os dados de entrada.\n",
        "x_neural_network = final_table.loc[:, final_table.columns!='overall_survive']\n",
        "\n",
        "# Criando um dataframe com somente o atributo alvo.\n",
        "y_neural_network = final_table.loc[:, final_table.columns=='overall_survive']"
      ],
      "metadata": {
        "id": "0GAW6DqoCnUz"
      },
      "execution_count": null,
      "outputs": []
    },
    {
      "cell_type": "markdown",
      "source": [
        "###3.3.2 Redes Neurais - Construíndo um modelo sem os melhores parametros possíveis (Sem RandomSearch) e mostrando os resultados obtidos:"
      ],
      "metadata": {
        "id": "ladahsGoCsUD"
      }
    },
    {
      "cell_type": "code",
      "source": [
        "# Dividindo os dados entre treino e teste e definindo o tamanho dos dados de teste como 30%.\n",
        "x_train_NN, x_test_NN, y_train_NN, y_test_NN = train_test_split(x_neural_network, y_neural_network, test_size=0.3, random_state=52)\n",
        "\n",
        "# Instanciando o modelo.\n",
        "NN = MLPClassifier()\n",
        "\n",
        "# Treinando o modelo de busca\n",
        "NN_model = NN.fit(x_train_NN, y_train_NN)\n",
        "\n",
        "# Associando resultado.\n",
        "y_pred_NN_no_tuning = NN_model.predict(x_test_NN)\n",
        "\n",
        "# Limpando o console de saída.\n",
        "clear_output()"
      ],
      "metadata": {
        "id": "_U8iBOdgCuuw"
      },
      "execution_count": null,
      "outputs": []
    },
    {
      "cell_type": "markdown",
      "source": [
        "Análise dos resultados obtidos:"
      ],
      "metadata": {
        "id": "ffr2yfoyC5cn"
      }
    },
    {
      "cell_type": "code",
      "source": [
        "# Verificando a pontuação de classificação de precisão.\n",
        "print(\"Acurácia: {:.2f}%\".format(accuracy_score(y_test_NN, y_pred_NN_no_tuning) * 100))\n",
        "print(\"Precisão: {:.2f}%\".format(precision_score(y_test_NN, y_pred_NN_no_tuning, average='macro') * 100))\n",
        "print(\"Erro Quadrático: {:.2f}%\".format(mean_squared_error(y_test_NN, y_pred_NN_no_tuning) * 100))\n",
        "print(\"Recall: {:.2f}%\".format(recall_score(y_test_NN, y_pred_NN_no_tuning, average='macro') * 100))\n",
        "\n",
        "# Matirz de Confusão do modelo\n",
        "NNMatrix = plot_confusion_matrix(NN_model, x_test_NN, y_test_NN, cmap='BuGn')"
      ],
      "metadata": {
        "id": "dUCl531iC7lO",
        "colab": {
          "base_uri": "https://localhost:8080/",
          "height": 444
        },
        "outputId": "60dd9d77-19c3-470d-ba9e-2806fa59d091"
      },
      "execution_count": null,
      "outputs": [
        {
          "output_type": "stream",
          "name": "stdout",
          "text": [
            "Acurácia: 67.12%\n",
            "Precisão: 50.09%\n",
            "Erro Quadrático: 41.74%\n",
            "Recall: 51.63%\n"
          ]
        },
        {
          "output_type": "stream",
          "name": "stderr",
          "text": [
            "/usr/local/lib/python3.7/dist-packages/sklearn/metrics/_classification.py:1318: UndefinedMetricWarning: Precision is ill-defined and being set to 0.0 in labels with no predicted samples. Use `zero_division` parameter to control this behavior.\n",
            "  _warn_prf(average, modifier, msg_start, len(result))\n",
            "/usr/local/lib/python3.7/dist-packages/sklearn/utils/deprecation.py:87: FutureWarning: Function plot_confusion_matrix is deprecated; Function `plot_confusion_matrix` is deprecated in 1.0 and will be removed in 1.2. Use one of the class methods: ConfusionMatrixDisplay.from_predictions or ConfusionMatrixDisplay.from_estimator.\n",
            "  warnings.warn(msg, category=FutureWarning)\n"
          ]
        },
        {
          "output_type": "display_data",
          "data": {
            "text/plain": [
              "<Figure size 432x288 with 2 Axes>"
            ],
            "image/png": "[encoded data removed]"
          },
          "metadata": {
            "needs_background": "light"
          }
        }
      ]
    },
    {
      "cell_type": "markdown",
      "source": [
        "###3.3.3 Rede Neural - Construíndo um modelo com os melhores parametros possíveis (Com RandomSearch) e mostrando os resultados obtidos:"
      ],
      "metadata": {
        "id": "zIRfsdRHDF7L"
      }
    },
    {
      "cell_type": "code",
      "source": [
        "# Colocando parâmetros\n",
        "params = {\n",
        "   ## \"hidden_layer_sizes\": range(100, 800, 150),\n",
        "    ##'max_iter': range(100, 1000, 100),\n",
        "    'solver': ['lbfgs'],\n",
        "    'learning_rate': ['constant', 'invscaling', 'adaptive'] }\n",
        "\n",
        "# Instanciando o modelo de busca \n",
        "search = RandomizedSearchCV(\n",
        "    estimator = NN,\n",
        "    param_distributions = params\n",
        ")\n",
        "\n",
        "# Treinando o modelo de busca\n",
        "NN_model1 = search.fit(x_train_NN, y_train_NN)\n",
        "\n",
        "# Associando resultado.\n",
        "y_pred_NN = NN_model1.predict(x_test_NN)\n",
        "\n",
        "# Limpando o console de saída.\n",
        "clear_output()"
      ],
      "metadata": {
        "id": "yrGSfpVEDIZE"
      },
      "execution_count": null,
      "outputs": []
    },
    {
      "cell_type": "markdown",
      "source": [
        "Análise dos resultados obtidos:"
      ],
      "metadata": {
        "id": "UFrnyuwdD9hP"
      }
    },
    {
      "cell_type": "code",
      "source": [
        "# Verificando a pontuação de classificação de precisão.\n",
        "print(\"Acurácia: {:.2f}%\".format(accuracy_score(y_test_NN, y_pred_NN) * 100))\n",
        "print(\"Precisão: {:.2f}%\".format(precision_score(y_test_NN, y_pred_NN, average='macro') * 100))\n",
        "print(\"Erro Quadrático: {:.2f}%\".format(mean_squared_error(y_test_NN, y_pred_NN) * 100))\n",
        "print(\"Recall: {:.2f}%\".format(recall_score(y_test_NN, y_pred_NN, average='macro') * 100))\n",
        "\n",
        "# Matirz de Confusão do modelo\n",
        "NNMatrix = plot_confusion_matrix(NN_model1, x_test_NN, y_test_NN, cmap='BuGn')"
      ],
      "metadata": {
        "id": "kcv0LUNqEDNi",
        "colab": {
          "base_uri": "https://localhost:8080/",
          "height": 408
        },
        "outputId": "f1f0a0b6-6984-4049-ba05-84b7fdf94390"
      },
      "execution_count": null,
      "outputs": [
        {
          "output_type": "stream",
          "name": "stderr",
          "text": [
            "/usr/local/lib/python3.7/dist-packages/sklearn/utils/deprecation.py:87: FutureWarning: Function plot_confusion_matrix is deprecated; Function `plot_confusion_matrix` is deprecated in 1.0 and will be removed in 1.2. Use one of the class methods: ConfusionMatrixDisplay.from_predictions or ConfusionMatrixDisplay.from_estimator.\n",
            "  warnings.warn(msg, category=FutureWarning)\n"
          ]
        },
        {
          "output_type": "stream",
          "name": "stdout",
          "text": [
            "Acurácia: 52.30%\n",
            "Precisão: 30.94%\n",
            "Erro Quadrático: 108.62%\n",
            "Recall: 35.07%\n"
          ]
        },
        {
          "output_type": "display_data",
          "data": {
            "text/plain": [
              "<Figure size 432x288 with 2 Axes>"
            ],
            "image/png": "[encoded data removed]"
          },
          "metadata": {
            "needs_background": "light"
          }
        }
      ]
    },
    {
      "cell_type": "markdown",
      "source": [
        "##3.4 SVM"
      ],
      "metadata": {
        "id": "akeOFcc7EPub"
      }
    },
    {
      "cell_type": "markdown",
      "source": [
        "###3.4.1 SVM - Construíndo um modelo sem os melhores parametros possíveis (Sem RandomSearch) e mostrando os resultados obtidos:"
      ],
      "metadata": {
        "id": "3t_AVWjZF0XT"
      }
    },
    {
      "cell_type": "code",
      "source": [
        "# Criando um dataframe com somente os dados de entrada.\n",
        "x_SVC = final_table.loc[:, final_table.columns!='overall_survive']\n",
        "\n",
        "# Criando um dataframe com somente o atributo alvo.\n",
        "y_SVC = final_table.loc[:, final_table.columns=='overall_survive']\n",
        "\n",
        "# Dividindo os dados entre treino e teste e definindo o tamanho dos dados de teste como 30%.\n",
        "x_train_SVC, x_test_SVC, y_train_SVC, y_test_SVC = train_test_split(x_SVC, y_SVC, test_size=0.3, random_state=42)\n",
        "\n",
        "clf = make_pipeline(StandardScaler(), SVC(gamma='auto'))\n",
        "\n",
        "clf.fit(x_train_SVC, y_train_SVC)\n",
        "\n",
        "y_pred_SVC_no_tuning = clf.predict(x_test_SVC)\n",
        "\n",
        "# Limpando o console de saída.\n",
        "clear_output()"
      ],
      "metadata": {
        "id": "hN-Xp2vsF1bR"
      },
      "execution_count": null,
      "outputs": []
    },
    {
      "cell_type": "markdown",
      "source": [
        "Análise dos resultados obtidos:"
      ],
      "metadata": {
        "id": "CoKs-jvlF6hC"
      }
    },
    {
      "cell_type": "code",
      "source": [
        "# Verificando a pontuação de classificação de precisão.\n",
        "print(\"Acurácia: {:.2f}%\".format(accuracy_score(y_test_SVC, y_pred_SVC_no_tuning) * 100))\n",
        "print(\"Precisão: {:.2f}%\".format(precision_score(y_test_SVC, y_pred_SVC_no_tuning, average='macro') * 100))\n",
        "print(\"Erro Quadrático: {:.2f}%\".format(mean_squared_error(y_test_SVC, y_pred_SVC_no_tuning) * 100))\n",
        "print(\"Recall: {:.2f}%\".format(recall_score(y_test_SVC, y_pred_SVC_no_tuning, average='macro') * 100))\n",
        "\n",
        "SVM_Matrix = plot_confusion_matrix(clf, x_test_SVC, y_test_SVC, cmap='BuGn')"
      ],
      "metadata": {
        "id": "EqrwT3BBF-Xn",
        "colab": {
          "base_uri": "https://localhost:8080/",
          "height": 408
        },
        "outputId": "8940e485-313d-43eb-cc05-d73151423e69"
      },
      "execution_count": null,
      "outputs": [
        {
          "output_type": "stream",
          "name": "stdout",
          "text": [
            "Acurácia: 70.27%\n",
            "Precisão: 59.18%\n",
            "Erro Quadrático: 43.59%\n",
            "Recall: 55.10%\n"
          ]
        },
        {
          "output_type": "stream",
          "name": "stderr",
          "text": [
            "/usr/local/lib/python3.7/dist-packages/sklearn/utils/deprecation.py:87: FutureWarning: Function plot_confusion_matrix is deprecated; Function `plot_confusion_matrix` is deprecated in 1.0 and will be removed in 1.2. Use one of the class methods: ConfusionMatrixDisplay.from_predictions or ConfusionMatrixDisplay.from_estimator.\n",
            "  warnings.warn(msg, category=FutureWarning)\n"
          ]
        },
        {
          "output_type": "display_data",
          "data": {
            "text/plain": [
              "<Figure size 432x288 with 2 Axes>"
            ],
            "image/png": "[encoded data removed]"
          },
          "metadata": {
            "needs_background": "light"
          }
        }
      ]
    },
    {
      "cell_type": "markdown",
      "source": [
        "###3.4.2 SVM - Construíndo um modelo com os melhores parametros possíveis (Com RandomSearch) e mostrando os resultados obtidos:"
      ],
      "metadata": {
        "id": "n_Cnpvu-GD3K"
      }
    },
    {
      "cell_type": "code",
      "source": [
        "##print(clf.get_params())\n",
        "params = {    'svc__C': [0.1, 1, 10, 100, 1000], \n",
        "              'svc__gamma': [1, 0.1, 0.01, 0.001, 0.0001],\n",
        "              'svc__random_state': [None, 0, 42],\n",
        "              'svc__probability': [True, False],\n",
        "              'svc__kernel': ['linear', 'rbf', 'poly']} \n",
        "\n",
        "# Instanciando o modelo de busca \n",
        "search = RandomizedSearchCV(\n",
        "    estimator = clf,\n",
        "    param_distributions = params\n",
        ")\n",
        "\n",
        "SVM_model = search.fit(x_train_SVC, y_train_SVC)\n",
        "\n",
        "y_pred_SVC = SVM_model.predict(x_test_SVC)\n",
        "\n",
        "\n",
        "# Limpando o console de saída.\n",
        "clear_output()"
      ],
      "metadata": {
        "id": "cAHyMlcWGE5t"
      },
      "execution_count": null,
      "outputs": []
    },
    {
      "cell_type": "markdown",
      "source": [
        "Análise dos resultados obtidos:"
      ],
      "metadata": {
        "id": "LauwEcsJJZKO"
      }
    },
    {
      "cell_type": "code",
      "source": [
        "  # Verificando a pontuação de classificação de precisão.\n",
        "print(\"Acurácia: {:.2f}%\".format(accuracy_score(y_test_SVC, y_pred_SVC) * 100))\n",
        "print(\"Precisão: {:.2f}%\".format(precision_score(y_test_SVC, y_pred_SVC, average='macro') * 100))\n",
        "print(\"Erro Quadrático: {:.2f}%\".format(mean_squared_error(y_test_SVC, y_pred_SVC) * 100))\n",
        "print(\"Recall: {:.2f}%\".format(recall_score(y_test_SVC, y_pred_SVC, average='macro') * 100))\n",
        "\n",
        "SVM_Matrix = plot_confusion_matrix(SVM_model, x_test_SVC, y_test_SVC, cmap='BuGn')"
      ],
      "metadata": {
        "id": "zgt4z-9vJbZ7",
        "colab": {
          "base_uri": "https://localhost:8080/",
          "height": 444
        },
        "outputId": "8932552c-d2fe-4b8e-babd-c5dbbf32c69e"
      },
      "execution_count": null,
      "outputs": [
        {
          "output_type": "stream",
          "name": "stdout",
          "text": [
            "Acurácia: 68.41%\n",
            "Precisão: 50.97%\n",
            "Erro Quadrático: 44.08%\n",
            "Recall: 53.18%\n"
          ]
        },
        {
          "output_type": "stream",
          "name": "stderr",
          "text": [
            "/usr/local/lib/python3.7/dist-packages/sklearn/metrics/_classification.py:1318: UndefinedMetricWarning: Precision is ill-defined and being set to 0.0 in labels with no predicted samples. Use `zero_division` parameter to control this behavior.\n",
            "  _warn_prf(average, modifier, msg_start, len(result))\n",
            "/usr/local/lib/python3.7/dist-packages/sklearn/utils/deprecation.py:87: FutureWarning: Function plot_confusion_matrix is deprecated; Function `plot_confusion_matrix` is deprecated in 1.0 and will be removed in 1.2. Use one of the class methods: ConfusionMatrixDisplay.from_predictions or ConfusionMatrixDisplay.from_estimator.\n",
            "  warnings.warn(msg, category=FutureWarning)\n"
          ]
        },
        {
          "output_type": "display_data",
          "data": {
            "text/plain": [
              "<Figure size 432x288 with 2 Axes>"
            ],
            "image/png": "[encoded data removed]"
          },
          "metadata": {
            "needs_background": "light"
          }
        }
      ]
    },
    {
      "cell_type": "markdown",
      "source": [
        "## 3.5 Comparando o desempenho dos modelos"
      ],
      "metadata": {
        "id": "gV8qyT9hKh5Y"
      }
    },
    {
      "cell_type": "code",
      "source": [
        "from sklearn import model_selection\n",
        "\n",
        "models = [('Decision Tree', modelTraining.best_estimator_), ('Neural Network', NN_model1.best_estimator_), ('SVM', SVM_model.best_estimator_)]\n",
        "\n",
        "# evaluate each model in turn\n",
        "results = []\n",
        "names = []\n",
        "scoring = 'accuracy'\n",
        "for name, model in models:\n",
        "  kfold = model_selection.KFold(n_splits=10)\n",
        "  cv_results = model_selection.cross_val_score(model, x, y, cv=kfold, scoring=scoring)\n",
        "  results.append(cv_results)\n",
        "  names.append(name)\n",
        "  msg = \"%s: %f (%f)\" % (name, cv_results.mean(), cv_results.std())\n",
        "\n",
        "clear_output()\n",
        "\n",
        "# boxplot algorithm comparison\n",
        "fig = plt.figure()\n",
        "fig.suptitle('Accuracy Comparison')\n",
        "ax = fig.add_subplot(111)\n",
        "plt.boxplot(results)\n",
        "ax.set_xticklabels(names)\n",
        "plt.show()"
      ],
      "metadata": {
        "id": "tYoDJskJLTL2",
        "colab": {
          "base_uri": "https://localhost:8080/",
          "height": 294
        },
        "outputId": "c3467732-2fac-4959-b3fc-399dbfac036d"
      },
      "execution_count": null,
      "outputs": [
        {
          "output_type": "display_data",
          "data": {
            "text/plain": [
              "<Figure size 432x288 with 1 Axes>"
            ],
            "image/png": "[encoded data removed]"
          },
          "metadata": {
            "needs_background": "light"
          }
        }
      ]
    },
    {
      "cell_type": "markdown",
      "source": [
        "### 3.5.1 Acurácia obtida entre os modelos"
      ],
      "metadata": {
        "id": "9ldNaWUEL967"
      }
    },
    {
      "cell_type": "code",
      "source": [
        "# Creating dataset\n",
        "np.random.seed(10)\n",
        " \n",
        "# BinaryTree\n",
        "data_1 = [67.45, 68.01]\n",
        "\n",
        "# Neural Network\n",
        "data_2 = [64.46, 61.32]\n",
        "\n",
        "# SVM\n",
        "data_3 = [70.27, 70.67]\n",
        "\n",
        "data = [data_1,data_2,data_3]\n",
        " \n",
        "fig = plt.figure(figsize=(5, 5))\n",
        "\n",
        "colors = ['#f7c29a', '#a8ce9e',\n",
        "          '#9cbad7', '#e29c98']\n",
        " \n",
        "# Creating axes instance\n",
        "ax = fig.add_axes([1,1,1,1])\n",
        "\n",
        "ax.set_xticklabels(['Árvore de decisão','Redes neurais','SVM'])\n",
        " \n",
        "# Creating plot\n",
        "bp = ax.boxplot(data, patch_artist = True)\n",
        "\n",
        "for patch, color in zip(bp['boxes'], colors):\n",
        "    patch.set_facecolor(color)\n",
        "\n",
        "bp['medians'][0].set(color ='#f08636',linewidth = 3)\n",
        "\n",
        "bp['medians'][1].set(color ='#529d3f',linewidth = 3)\n",
        "\n",
        "bp['medians'][2].set(color ='#6896c1',linewidth = 3)     \n",
        "\n",
        "plt.title(\"Acurácia\")\n",
        "\n",
        "plt.yticks(np.arange(55, 75, 2.5))\n",
        " \n",
        "# Showing plot\n",
        "plt.show()"
      ],
      "metadata": {
        "id": "JkaoIRZ5NMVU",
        "colab": {
          "base_uri": "https://localhost:8080/",
          "height": 424
        },
        "outputId": "06bdead7-7145-4cc0-84a2-540524a42973"
      },
      "execution_count": null,
      "outputs": [
        {
          "output_type": "display_data",
          "data": {
            "text/plain": [
              "<Figure size 360x360 with 1 Axes>"
            ],
            "image/png": "[encoded data removed]"
          },
          "metadata": {
            "needs_background": "light"
          }
        }
      ]
    },
    {
      "cell_type": "markdown",
      "source": [
        "### 3.5.2 Precisão encontrada entre modelos"
      ],
      "metadata": {
        "id": "uLKlIYehOwdn"
      }
    },
    {
      "cell_type": "code",
      "source": [
        "# Creating dataset\n",
        "np.random.seed(10)\n",
        " \n",
        "# BinaryTree\n",
        "data_1 = [70.25, 67.32]\n",
        "\n",
        "# Neural Network\n",
        "data_2 = [56.36,54.70]\n",
        "\n",
        "# SVM\n",
        "data_3 = [59.18, 62.14]\n",
        "\n",
        "data = [data_1,data_2,data_3]\n",
        " \n",
        "fig = plt.figure(figsize=(5, 5))\n",
        "\n",
        "colors = ['#f7c29a', '#a8ce9e',\n",
        "          '#9cbad7', '#e29c98']\n",
        " \n",
        "# Creating axes instance\n",
        "ax = fig.add_axes([1,1,1,1])\n",
        "\n",
        "ax.set_xticklabels(['Árvore de decisão','Redes neurais','SVM'])\n",
        " \n",
        "# Creating plot\n",
        "bp = ax.boxplot(data, patch_artist = True)\n",
        "\n",
        "for patch, color in zip(bp['boxes'], colors):\n",
        "    patch.set_facecolor(color)\n",
        "\n",
        "bp['medians'][0].set(color ='#f08636',linewidth = 3)\n",
        "\n",
        "bp['medians'][1].set(color ='#529d3f',linewidth = 3)\n",
        "\n",
        "bp['medians'][2].set(color ='#6896c1',linewidth = 3)\n",
        "     \n",
        "plt.title(\"Precisão\")\n",
        "\n",
        "plt.yticks(np.arange(30, 80, 2.5))\n",
        " \n",
        "# Showing plot\n",
        "plt.show()"
      ],
      "metadata": {
        "id": "NhTnRnJwOx-Q",
        "colab": {
          "base_uri": "https://localhost:8080/",
          "height": 424
        },
        "outputId": "5be9c4fd-ed74-4a32-fda5-5bab92feacbd"
      },
      "execution_count": null,
      "outputs": [
        {
          "output_type": "display_data",
          "data": {
            "text/plain": [
              "<Figure size 360x360 with 1 Axes>"
            ],
            "image/png": "[encoded data removed]"
          },
          "metadata": {
            "needs_background": "light"
          }
        }
      ]
    },
    {
      "cell_type": "markdown",
      "source": [
        "### 3.5.3 Erro quadrático apresentado pelos modelos"
      ],
      "metadata": {
        "id": "UJ0NgSqVPQXd"
      }
    },
    {
      "cell_type": "code",
      "source": [
        "# Creating dataset\n",
        "np.random.seed(10)\n",
        " \n",
        "# BinaryTree\n",
        "data_1 = [46.98, 40.45]\n",
        "\n",
        "# Neural Network\n",
        "data_2 = [49.48, 55.52] \n",
        "\n",
        "# SVM\n",
        "data_3 = [43.59, 44.80]\n",
        "\n",
        "data = [data_1,data_2,data_3]\n",
        " \n",
        "fig = plt.figure(figsize=(5, 5))\n",
        "\n",
        "colors = ['#f7c29a', '#a8ce9e',\n",
        "          '#9cbad7', '#e29c98']\n",
        " \n",
        "# Creating axes instance\n",
        "ax = fig.add_axes([1,1,1,1])\n",
        "\n",
        "ax.set_xticklabels(['Árvore de decisão','Redes neurais','SVM'])\n",
        " \n",
        "# Creating plot\n",
        "bp = ax.boxplot(data, patch_artist = True)\n",
        "\n",
        "for patch, color in zip(bp['boxes'], colors):\n",
        "    patch.set_facecolor(color)\n",
        "\n",
        "bp['medians'][0].set(color ='#f08636',linewidth = 3)\n",
        "\n",
        "bp['medians'][1].set(color ='#529d3f',linewidth = 3)\n",
        "\n",
        "bp['medians'][2].set(color ='#6896c1',linewidth = 3)     \n",
        "\n",
        "plt.title(\"Erro quadrático\")\n",
        "\n",
        "plt.yticks(np.arange(30, 65, 2.5))\n",
        " \n",
        "# Showing plot\n",
        "plt.show()"
      ],
      "metadata": {
        "id": "eFlB73V9PSf7",
        "colab": {
          "base_uri": "https://localhost:8080/",
          "height": 424
        },
        "outputId": "0b601a2a-3be3-4308-9334-e3c76d99776a"
      },
      "execution_count": null,
      "outputs": [
        {
          "output_type": "display_data",
          "data": {
            "text/plain": [
              "<Figure size 360x360 with 1 Axes>"
            ],
            "image/png": "[encoded data removed]"
          },
          "metadata": {
            "needs_background": "light"
          }
        }
      ]
    },
    {
      "cell_type": "markdown",
      "source": [
        "### 3.5.4 Recall"
      ],
      "metadata": {
        "id": "IZzr1xSmPvqc"
      }
    },
    {
      "cell_type": "code",
      "source": [
        "# Creating dataset\n",
        "np.random.seed(10)\n",
        " \n",
        "# BinaryTree\n",
        "data_1 = [65.47, 59.20]\n",
        "\n",
        "# Neural Network\n",
        "data_2 = [59.12, 52.83]\n",
        "\n",
        "# SVM\n",
        "data_3 = [55.10, 58.00]\n",
        "\n",
        "data = [data_1,data_2,data_3]\n",
        " \n",
        "fig = plt.figure(figsize=(5, 5))\n",
        "\n",
        "colors = ['#f7c29a', '#a8ce9e',\n",
        "          '#9cbad7', '#e29c98']\n",
        " \n",
        "# Creating axes instance\n",
        "ax = fig.add_axes([1,1,1,1])\n",
        "\n",
        "ax.set_xticklabels(['Árvore de decisão','Redes neurais','SVM'])\n",
        " \n",
        "# Creating plot\n",
        "bp = ax.boxplot(data, patch_artist = True)\n",
        "\n",
        "for patch, color in zip(bp['boxes'], colors):\n",
        "    patch.set_facecolor(color)\n",
        "\n",
        "bp['medians'][0].set(color ='#f08636',linewidth = 3)\n",
        "\n",
        "bp['medians'][1].set(color ='#529d3f',linewidth = 3)\n",
        "\n",
        "bp['medians'][2].set(color ='#6896c1',linewidth = 3)     \n",
        "\n",
        "plt.title(\"Recall\")\n",
        "\n",
        "plt.yticks(np.arange(32.5, 72.5, 2.5))\n",
        " \n",
        "# Showing plot\n",
        "plt.show()"
      ],
      "metadata": {
        "id": "7Jm4u4giPxNo",
        "colab": {
          "base_uri": "https://localhost:8080/",
          "height": 424
        },
        "outputId": "9ceda0de-e0e3-4b80-bef3-805f243784e0"
      },
      "execution_count": null,
      "outputs": [
        {
          "output_type": "display_data",
          "data": {
            "text/plain": [
              "<Figure size 360x360 with 1 Axes>"
            ],
            "image/png": "[encoded data removed]"
          },
          "metadata": {
            "needs_background": "light"
          }
        }
      ]
    },
    {
      "cell_type": "markdown",
      "source": [
        "### 3.5.5 Valores obtidos com a Árvore de Decisão"
      ],
      "metadata": {
        "id": "TJHvQg18SHFb"
      }
    },
    {
      "cell_type": "code",
      "source": [
        "# Creating dataset\n",
        "np.random.seed(10)\n",
        " \n",
        "# Acurácia\n",
        "data_1 = [66.80, 67.77]\n",
        "\n",
        "# Precisão\n",
        "data_2 = [68.46, 67.87]\n",
        "\n",
        "# Erro quadrático\n",
        "data_3 = [47.22, 44.72] # faltam dados aqui\n",
        "\n",
        "# Recall\n",
        "data_4 = [65.21, 59.16]\n",
        "\n",
        "data = [data_1,data_2,data_3,data_4]\n",
        " \n",
        "fig = plt.figure(figsize=(5, 5))\n",
        "\n",
        "colors = ['#f7c29a', '#f7c29a',\n",
        "          '#f7c29a', '#f7c29a']\n",
        " \n",
        "# Creating axes instance\n",
        "ax = fig.add_axes([1,1,1,1])\n",
        "\n",
        "ax.set_xticklabels(['Acurácia','Precisão','Erro quadrático','Recall'])\n",
        " \n",
        "# Creating plot\n",
        "bp = ax.boxplot(data, patch_artist = True)\n",
        "\n",
        "for patch, color in zip(bp['boxes'], colors):\n",
        "    patch.set_facecolor(color)\n",
        "\n",
        "bp['medians'][0].set(color ='#f08636',linewidth = 3)\n",
        "\n",
        "bp['medians'][1].set(color ='#f08636',linewidth = 3)\n",
        "\n",
        "bp['medians'][2].set(color ='#f08636',linewidth = 3)\n",
        "\n",
        "bp['medians'][3].set(color ='#f08636',linewidth = 3)\n",
        "     \n",
        "\n",
        "plt.title(\"Árvore de decisão\")\n",
        "\n",
        "plt.yticks(np.arange(42.5, 72.5, 2.5))\n",
        " \n",
        "# Showing plot\n",
        "plt.show()"
      ],
      "metadata": {
        "id": "--dr7tCBTDZF",
        "colab": {
          "base_uri": "https://localhost:8080/",
          "height": 424
        },
        "outputId": "6adadbef-4ad9-4f7d-9bbf-3109b04c8b14"
      },
      "execution_count": null,
      "outputs": [
        {
          "output_type": "display_data",
          "data": {
            "text/plain": [
              "<Figure size 360x360 with 1 Axes>"
            ],
            "image/png": "[encoded data removed]"
          },
          "metadata": {
            "needs_background": "light"
          }
        }
      ]
    },
    {
      "cell_type": "markdown",
      "source": [
        "### 3.5.6 Valores obtidos com as Redes Neurais"
      ],
      "metadata": {
        "id": "qvQ54FFxTG6H"
      }
    },
    {
      "cell_type": "code",
      "source": [
        "# Creating dataset\n",
        "np.random.seed(10)\n",
        " \n",
        "# Acurácia\n",
        "data_1 = [53.67] # faltam dados aqui\n",
        "\n",
        "# Precisão\n",
        "data_2 = [29.23] # faltam dados aqui\n",
        "\n",
        "# Erro quadrático\n",
        "data_3 = [62.93] # faltam dados aqui\n",
        "\n",
        "# Recall\n",
        "data_4 = [32.54] # faltam dados aqui\n",
        "\n",
        "data = [data_1,data_2,data_3,data_4]\n",
        " \n",
        "fig = plt.figure(figsize=(5, 5))\n",
        "\n",
        "colors = ['#9cbad7', '#9cbad7',\n",
        "          '#9cbad7', '#9cbad7']\n",
        " \n",
        "# Creating axes instance\n",
        "ax = fig.add_axes([1,1,1,1])\n",
        "\n",
        "ax.set_xticklabels(['Acurácia','Precisão','Erro quadrático','Recall'])\n",
        " \n",
        "# Creating plot\n",
        "bp = ax.boxplot(data, patch_artist = True)\n",
        "\n",
        "for patch, color in zip(bp['boxes'], colors):\n",
        "    patch.set_facecolor(color)\n",
        "\n",
        "bp['medians'][0].set(color ='#6896c1',linewidth = 3)\n",
        "\n",
        "bp['medians'][1].set(color ='#6896c1',linewidth = 3)\n",
        "\n",
        "bp['medians'][2].set(color ='#6896c1',linewidth = 3)\n",
        "\n",
        "bp['medians'][3].set(color ='#6896c1',linewidth = 3)\n",
        "     \n",
        "\n",
        "plt.title(\"Redes Neurais\")\n",
        "\n",
        "plt.yticks(np.arange(30, 65, 2.5))\n",
        " \n",
        "# Showing plot\n",
        "plt.show()"
      ],
      "metadata": {
        "id": "YRUN-yZVTXY3",
        "colab": {
          "base_uri": "https://localhost:8080/",
          "height": 424
        },
        "outputId": "f97a4b8b-4b72-4aeb-b236-b189d07343f1"
      },
      "execution_count": null,
      "outputs": [
        {
          "output_type": "display_data",
          "data": {
            "text/plain": [
              "<Figure size 360x360 with 1 Axes>"
            ],
            "image/png": "[encoded data removed]"
          },
          "metadata": {
            "needs_background": "light"
          }
        }
      ]
    },
    {
      "cell_type": "markdown",
      "source": [
        "### 3.5.7 Valores obtidos com o SVM"
      ],
      "metadata": {
        "id": "D-XgE4RQTfIX"
      }
    },
    {
      "cell_type": "code",
      "source": [
        "# Creating dataset\n",
        "np.random.seed(10)\n",
        " \n",
        "# Acurácia\n",
        "data_1 = [71.88, 70.27] \n",
        "\n",
        "# Precisão\n",
        "data_2 = [69.74, 59.18]   \n",
        "\n",
        "# Erro quadrático\n",
        "data_3 = [39.32, 43.59] \n",
        "\n",
        "# Recall\n",
        "data_4 = [69.15, 55.10] \n",
        "\n",
        "data = [data_1,data_2,data_3,data_4]\n",
        " \n",
        "fig = plt.figure(figsize=(5, 5))\n",
        "\n",
        "colors = ['#e29c98', '#e29c98',\n",
        "          '#e29c98', '#e29c98']\n",
        " \n",
        "# Creating axes instance\n",
        "ax = fig.add_axes([1,1,1,1])\n",
        "\n",
        "ax.set_xticklabels(['Acurácia','Precisão','Erro quadrático','Recall'])\n",
        " \n",
        "# Creating plot\n",
        "bp = ax.boxplot(data, patch_artist = True)\n",
        "\n",
        "for patch, color in zip(bp['boxes'], colors):\n",
        "    patch.set_facecolor(color)\n",
        "\n",
        "bp['medians'][0].set(color ='#c63a33',linewidth = 3)\n",
        "\n",
        "bp['medians'][1].set(color ='#c63a33',linewidth = 3)\n",
        "\n",
        "bp['medians'][2].set(color ='#c63a33',linewidth = 3)\n",
        "\n",
        "bp['medians'][3].set(color ='#c63a33',linewidth = 3)\n",
        "     \n",
        "\n",
        "plt.title(\"SVM\")\n",
        "\n",
        "plt.yticks(np.arange(30, 80, 2.5))\n",
        " \n",
        "# Showing plot\n",
        "plt.show()"
      ],
      "metadata": {
        "id": "tjr1HsrPThUu",
        "colab": {
          "base_uri": "https://localhost:8080/",
          "height": 424
        },
        "outputId": "47228b97-b961-43bc-ec6a-c1230ad0e19d"
      },
      "execution_count": null,
      "outputs": [
        {
          "output_type": "display_data",
          "data": {
            "text/plain": [
              "<Figure size 360x360 with 1 Axes>"
            ],
            "image/png": "[encoded data removed]"
          },
          "metadata": {
            "needs_background": "light"
          }
        }
      ]
    }
  ]
}