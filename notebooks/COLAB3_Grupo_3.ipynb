{
  "nbformat": 4,
  "nbformat_minor": 0,
  "metadata": {
    "colab": {
      "provenance": []
    },
    "kernelspec": {
      "name": "python3",
      "display_name": "Python 3"
    },
    "language_info": {
      "name": "python"
    }
  },
  "cells": [
    {
      "cell_type": "markdown",
      "source": [
        "# Configurações iniciais para a definição do melhor modelo"
      ],
      "metadata": {
        "id": "uEHVR3t_VDcf"
      }
    },
    {
      "cell_type": "code",
      "execution_count": null,
      "metadata": {
        "id": "b0BaKS0GU5Cr"
      },
      "outputs": [],
      "source": [
        "# Importando as bibliotecas necessárias para a modelagem\n",
        "import pandas as pd\n",
        "import matplotlib.pyplot as plt\n",
        "import numpy as np\n",
        "from sklearn.model_selection import train_test_split\n",
        "from sklearn.model_selection import RandomizedSearchCV\n",
        "from sklearn.model_selection import cross_val_score\n",
        "from sklearn.metrics import accuracy_score, mean_squared_error, precision_score, recall_score\n",
        "from sklearn.metrics import plot_confusion_matrix\n",
        "from IPython.display import clear_output\n",
        "\n",
        "# Importando a biblioteca para o KNN\n",
        "from sklearn.neighbors import KNeighborsClassifier\n",
        "\n",
        "\n"
      ]
    },
    {
      "cell_type": "code",
      "source": [
        "from google.colab import drive\n",
        "drive.mount('/content/drive')"
      ],
      "metadata": {
        "colab": {
          "base_uri": "https://localhost:8080/"
        },
        "id": "MSlNrXwLWCb9",
        "outputId": "438ea52e-6eb8-4817-967c-391dacfe7112"
      },
      "execution_count": null,
      "outputs": [
        {
          "output_type": "stream",
          "name": "stdout",
          "text": [
            "Drive already mounted at /content/drive; to attempt to forcibly remount, call drive.mount(\"/content/drive\", force_remount=True).\n"
          ]
        }
      ]
    },
    {
      "cell_type": "code",
      "source": [
        "final_table = pd.read_excel('/content/drive/MyDrive/database/database.xlsx')"
      ],
      "metadata": {
        "id": "pNvdgFWfWXf4"
      },
      "execution_count": null,
      "outputs": []
    },
    {
      "cell_type": "markdown",
      "source": [
        "## 4.0 KNN"
      ],
      "metadata": {
        "id": "RYLKgQfvWnNe"
      }
    },
    {
      "cell_type": "markdown",
      "source": [
        "###4.4.1 Separando a tabela para treino"
      ],
      "metadata": {
        "id": "xLubIOf5WyCr"
      }
    },
    {
      "cell_type": "code",
      "source": [
        "# Criando um dataframe com somente os dados de entrada.\n",
        "xKNN = final_table.loc[:, final_table.columns!='overall_survive']\n",
        "\n",
        "# Criando um dataframe com somente o atributo alvo.\n",
        "yKNN = final_table.loc[:, final_table.columns=='overall_survive']"
      ],
      "metadata": {
        "id": "1rXeth9cWzuO"
      },
      "execution_count": null,
      "outputs": []
    },
    {
      "cell_type": "markdown",
      "source": [
        "### 4.4.2 KNN - Construíndo um modelo sem os melhores parametros possíveis (Sem RandomSearch) e mostrando os resultados obtidos:"
      ],
      "metadata": {
        "id": "Cwhy3VXBW5b8"
      }
    },
    {
      "cell_type": "code",
      "source": [
        "# Dividindo os dados entre treino e teste e definindo o tamanho dos dados de teste como 30%.\n",
        "x_train_KNN, x_test_KNN, y_train_KNN, y_test_KNN = train_test_split(xKNN, yKNN, test_size=0.3, random_state=52)\n",
        "\n",
        "# Instanciando o modelo.\n",
        "kNN = KNeighborsClassifier()\n",
        "\n",
        "# Treinando o modelo de busca\n",
        "kNN.fit(x_train_KNN, y_train_KNN)\n",
        "\n",
        "# Associando resultado.\n",
        "y_pred_KNN_no_tuning = kNN.predict(x_test_KNN)\n",
        "\n",
        "# Limpando o console de saída.\n",
        "clear_output()"
      ],
      "metadata": {
        "id": "hyAWR2TfW7Jg"
      },
      "execution_count": null,
      "outputs": []
    },
    {
      "cell_type": "markdown",
      "source": [
        "Análise dos resultados obtidos:"
      ],
      "metadata": {
        "id": "NN_bphqiYiiI"
      }
    },
    {
      "cell_type": "code",
      "source": [
        "# Verificando a pontuação de classificação de precisão.\n",
        "print(\"Acurácia: {:.2f}%\".format(accuracy_score(y_test_KNN, y_pred_KNN_no_tuning) * 100))\n",
        "print(\"Precisão: {:.2f}%\".format(precision_score(y_test_KNN, y_pred_KNN_no_tuning, average='macro') * 100))\n",
        "print(\"Erro Quadrático: {:.2f}%\".format(mean_squared_error(y_test_KNN, y_pred_KNN_no_tuning) * 100))\n",
        "print(\"Recall: {:.2f}%\".format(recall_score(y_test_KNN, y_pred_KNN_no_tuning, average='macro') * 100))\n",
        "\n",
        "# Plotando a matriz de confusão.\n",
        "print(\"Segue a Matriz de Confusão: \")\n",
        "_ = plot_confusion_matrix(kNN, x_test_KNN, y_test_KNN, cmap='BuGn')"
      ],
      "metadata": {
        "colab": {
          "base_uri": "https://localhost:8080/",
          "height": 426
        },
        "id": "RPrn7MQjYmDZ",
        "outputId": "22583681-aed2-4385-da8f-b38e87ec1edb"
      },
      "execution_count": null,
      "outputs": [
        {
          "output_type": "stream",
          "name": "stdout",
          "text": [
            "Acurácia: 72.52%\n",
            "Precisão: 76.77%\n",
            "Erro Quadrático: 38.76%\n",
            "Recall: 69.25%\n",
            "Segue a Matriz de Confusão: \n"
          ]
        },
        {
          "output_type": "stream",
          "name": "stderr",
          "text": [
            "/usr/local/lib/python3.7/dist-packages/sklearn/utils/deprecation.py:87: FutureWarning: Function plot_confusion_matrix is deprecated; Function `plot_confusion_matrix` is deprecated in 1.0 and will be removed in 1.2. Use one of the class methods: ConfusionMatrixDisplay.from_predictions or ConfusionMatrixDisplay.from_estimator.\n",
            "  warnings.warn(msg, category=FutureWarning)\n"
          ]
        },
        {
          "output_type": "display_data",
          "data": {
            "text/plain": [
              "<Figure size 432x288 with 2 Axes>"
            ],
            "image/png": "[encoded data removed]"
          },
          "metadata": {
            "needs_background": "light"
          }
        }
      ]
    },
    {
      "cell_type": "markdown",
      "source": [
        "### 4.4.3 KNN - Construíndo um modelo com os melhores parametros possíveis (Com RandomSearch) e mostrando os resultados obtidos:"
      ],
      "metadata": {
        "id": "XyXAmmP_ZDlu"
      }
    },
    {
      "cell_type": "code",
      "source": [
        "# Definindo os parâmetros para o randomSearch\n",
        "params = {\n",
        "    'n_neighbors': range(5,35),\n",
        "    'weights': ['uniform', 'distance'],\n",
        "}\n",
        "\n",
        "# Instanciando o modelo de busca \n",
        "\n",
        "search = RandomizedSearchCV(\n",
        "    estimator = kNN,\n",
        "    param_distributions = params\n",
        ")\n",
        "\n",
        "# Treinando o modelo de busca\n",
        "kNN_model1 = search.fit(x_train_KNN, y_train_KNN)\n",
        "\n",
        "clear_output()\n",
        "\n",
        "# Associando resultado.\n",
        "y_pred_KNN = kNN_model1.predict(x_test_KNN)\n",
        "\n",
        "# Mostrando os melhores parâmetros\n",
        "kNN_model1.best_params_"
      ],
      "metadata": {
        "colab": {
          "base_uri": "https://localhost:8080/"
        },
        "id": "2OUoZGrbZEaK",
        "outputId": "31cb5d16-1e45-435b-e7e7-8eb4c163a7cc"
      },
      "execution_count": null,
      "outputs": [
        {
          "output_type": "execute_result",
          "data": {
            "text/plain": [
              "{'weights': 'uniform', 'n_neighbors': 18}"
            ]
          },
          "metadata": {},
          "execution_count": 19
        }
      ]
    },
    {
      "cell_type": "markdown",
      "source": [
        "Análise dos resultados obtidos:"
      ],
      "metadata": {
        "id": "HjxUAQhqZ4K5"
      }
    },
    {
      "cell_type": "code",
      "source": [
        "# Verificando a pontuação de classificação de precisão.\n",
        "print(\"Acurácia: {:.2f}%\".format(accuracy_score(y_test_KNN, y_pred_KNN) * 100))\n",
        "print(\"Precisão: {:.2f}%\".format(precision_score(y_test_KNN, y_pred_KNN, average='macro') * 100))\n",
        "print(\"Erro Quadrático: {:.2f}%\".format(mean_squared_error(y_test_KNN, y_pred_KNN) * 100))\n",
        "print(\"Recall: {:.2f}%\".format(recall_score(y_test_KNN, y_pred_KNN, average='macro') * 100))\n",
        "\n",
        "# Plotando a matriz de confusão.\n",
        "print(\"Segue a Matriz de Confusão: \")\n",
        "_ = plot_confusion_matrix(kNN_model1, x_test_KNN, y_test_KNN, cmap='BuGn')"
      ],
      "metadata": {
        "id": "AM-gU-ONZ6-y",
        "outputId": "69b58968-90e3-4697-800c-acf96c530916",
        "colab": {
          "base_uri": "https://localhost:8080/",
          "height": 426
        }
      },
      "execution_count": null,
      "outputs": [
        {
          "output_type": "stream",
          "name": "stdout",
          "text": [
            "Acurácia: 74.54%\n",
            "Precisão: 78.42%\n",
            "Erro Quadrático: 33.68%\n",
            "Recall: 72.01%\n",
            "Segue a Matriz de Confusão: \n"
          ]
        },
        {
          "output_type": "stream",
          "name": "stderr",
          "text": [
            "/usr/local/lib/python3.7/dist-packages/sklearn/utils/deprecation.py:87: FutureWarning: Function plot_confusion_matrix is deprecated; Function `plot_confusion_matrix` is deprecated in 1.0 and will be removed in 1.2. Use one of the class methods: ConfusionMatrixDisplay.from_predictions or ConfusionMatrixDisplay.from_estimator.\n",
            "  warnings.warn(msg, category=FutureWarning)\n"
          ]
        },
        {
          "output_type": "display_data",
          "data": {
            "text/plain": [
              "<Figure size 432x288 with 2 Axes>"
            ],
            "image/png": "[encoded data removed]"
          },
          "metadata": {
            "needs_background": "light"
          }
        }
      ]
    }
  ]
}